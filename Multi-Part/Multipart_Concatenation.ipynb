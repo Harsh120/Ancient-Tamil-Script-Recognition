{
 "cells": [
  {
   "cell_type": "code",
   "execution_count": 11,
   "metadata": {},
   "outputs": [],
   "source": [
    "#importing necessary libraries\n",
    "import cv2\n",
    "import tensorflow as tf\n",
    "import os\n",
    "import glob\n",
    "from matplotlib import pyplot as plt"
   ]
  },
  {
   "cell_type": "code",
   "execution_count": 12,
   "metadata": {},
   "outputs": [],
   "source": [
    "imdir = \"CapstoneCode\\\\pathto\\\\input\"\n",
    "outdir = \"CapstoneCode\\\\pathto\\\\output\""
   ]
  },
  {
   "cell_type": "code",
   "execution_count": 13,
   "metadata": {},
   "outputs": [],
   "source": [
    "#prepare(file) allows us to use an image of any size, since it automatically resize it to the image size we defined in the first program.\n",
    "def prepare(file):\n",
    "    IMG_SIZE = 50\n",
    "    img_array = cv2.imread(file, cv2.IMREAD_GRAYSCALE)\n",
    "    new_array = cv2.resize(img_array, (IMG_SIZE, IMG_SIZE))\n",
    "    return new_array.reshape(-1, IMG_SIZE, IMG_SIZE, 1)"
   ]
  },
  {
   "cell_type": "code",
   "execution_count": 14,
   "metadata": {},
   "outputs": [],
   "source": [
    "#hconcat_resize_min() takes the image list as an argument and resizes the image to the maximum height in the list\n",
    "#and concatenates them horizontally\n",
    "def hconcat_resize_min(im_list, interpolation=cv2.INTER_CUBIC):\n",
    "    h_max = max(im.shape[0] for im in im_list)\n",
    "    im_list_resize = [cv2.resize(im, (int(im.shape[1] * h_max / im.shape[0]), h_max), interpolation=interpolation)\n",
    "                      for im in im_list]\n",
    "    return cv2.hconcat(im_list_resize)"
   ]
  },
  {
   "cell_type": "code",
   "execution_count": 15,
   "metadata": {},
   "outputs": [],
   "source": [
    "model = tf.keras.models.load_model(\"CNN.model\") # Loding pre-trained data trained at Harshit's machine"
   ]
  },
  {
   "cell_type": "code",
   "execution_count": 16,
   "metadata": {},
   "outputs": [
    {
     "name": "stdout",
     "output_type": "stream",
     "text": [
      "C:\\Users\\Pratyush\\Desktop\\CapstoneCode\\Stage2.5\\input\\108.JPG\n",
      "C:\\Users\\Pratyush\\Desktop\\CapstoneCode\\Stage2.5\\input\\121.JPG\n",
      "C:\\Users\\Pratyush\\Desktop\\CapstoneCode\\Stage2.5\\input\\15.JPG\n",
      "C:\\Users\\Pratyush\\Desktop\\CapstoneCode\\Stage2.5\\input\\17.JPG\n",
      "C:\\Users\\Pratyush\\Desktop\\CapstoneCode\\Stage2.5\\input\\26.JPG\n",
      "C:\\Users\\Pratyush\\Desktop\\CapstoneCode\\Stage2.5\\input\\37.JPG\n",
      "C:\\Users\\Pratyush\\Desktop\\CapstoneCode\\Stage2.5\\input\\50.JPG\n",
      "C:\\Users\\Pratyush\\Desktop\\CapstoneCode\\Stage2.5\\input\\66.JPG\n",
      "C:\\Users\\Pratyush\\Desktop\\CapstoneCode\\Stage2.5\\input\\84.JPG\n"
     ]
    }
   ],
   "source": [
    "filelist = glob.glob(os.path.join(imdir, '*.jpg')) #reading all the files in image directory\n",
    "\n",
    "j=0\n",
    "for i in range(len(filelist)):\n",
    "    image = prepare(filelist[i]) #Single image that you want to predict\n",
    "    prediction = model.predict([image]) #predicting if the image is part of multicharacter or not\n",
    "    prediction = list(prediction[0])\n",
    "    if(prediction[0]>0.5) and i+1<len(filelist): #if the image belongs to MultipartClass and is not the last image append it to next image\n",
    "        im1 = cv2.imread(filelist[i])\n",
    "        print(filelist[i])  #printing file path of all the images classified as MultipartCharacter\n",
    "        im2 = cv2.imread(filelist[i+1])\n",
    "        im_h_resize = hconcat_resize_min([im1, im2])\n",
    "        cv2.imwrite(outdir+\"\\\\\"+str(j)+\".jpg\", im_h_resize)\n",
    "        j=j+1"
   ]
  },
  {
   "cell_type": "code",
   "execution_count": 17,
   "metadata": {},
   "outputs": [
    {
     "data": {
      "text/plain": [
       "<matplotlib.image.AxesImage at 0x2022cda25c0>"
      ]
     },
     "execution_count": 17,
     "metadata": {},
     "output_type": "execute_result"
    },
    {
     "data": {
      "image/png": "[encoded data removed]",
      "text/plain": [
       "<Figure size 432x288 with 1 Axes>"
      ]
     },
     "metadata": {
      "needs_background": "light"
     },
     "output_type": "display_data"
    }
   ],
   "source": [
    "im = cv2.imread('CapstoneCode\\\\pathto\\\\output\\\\0.jpg')\n",
    "cv2.imshow('Output Sample',im)\n",
    "cv2.waitKey(0)\n",
    "RGB_im = cv2.cvtColor(im, cv2.COLOR_BGR2RGB)  #opencv reads image in BGR format to display in matplot lib we convert it to RGB\n",
    "plt.imshow(RGB_im)"
   ]
  }
 ],
 "metadata": {
  "kernelspec": {
   "display_name": "Python 3",
   "language": "python",
   "name": "python3"
  },
  "language_info": {
   "codemirror_mode": {
    "name": "ipython",
    "version": 3
   },
   "file_extension": ".py",
   "mimetype": "text/x-python",
   "name": "python",
   "nbconvert_exporter": "python",
   "pygments_lexer": "ipython3",
   "version": "3.7.3"
  }
 },
 "nbformat": 4,
 "nbformat_minor": 2
}
