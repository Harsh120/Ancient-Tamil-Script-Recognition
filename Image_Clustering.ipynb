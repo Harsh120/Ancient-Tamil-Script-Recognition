{
 "cells": [
  {
   "cell_type": "markdown",
   "metadata": {},
   "source": [
    "## <font color=purple>Tamil Character Image Clustering - Using VGG19 Pretrained Model</font>"
   ]
  },
  {
   "cell_type": "markdown",
   "metadata": {},
   "source": [
    " "
   ]
  },
  {
   "cell_type": "markdown",
   "metadata": {},
   "source": [
    "## <font color=\"blue\">Tamil Script Characters -</font>"
   ]
  },
  {
   "cell_type": "markdown",
   "metadata": {},
   "source": [
    "<img src=\"Tamil Script.jpeg\" height=\"200\" width=\"300\" style=\"float:left; margin-right:50px\"><img src=\"Tamil Script - 2.jpeg\" height=\"200\" width=\"300\" style=\"float:left\"><br><img src=\"Ancient Tamil.jpg\" height=\"200\" width=\"300\" style=\"margin-top:100px\">"
   ]
  },
  {
   "cell_type": "markdown",
   "metadata": {},
   "source": [
    "## <font color=\"blue\">VGG19 Model -</font>"
   ]
  },
  {
   "cell_type": "markdown",
   "metadata": {},
   "source": [
    "#### Pre-trained Models Reference - https://github.com/onnx/models#image_classification"
   ]
  },
  {
   "cell_type": "markdown",
   "metadata": {},
   "source": [
    " "
   ]
  },
  {
   "cell_type": "markdown",
   "metadata": {
    "scrolled": true
   },
   "source": [
    "## <font color=\"blue\">Image Clustering Code -</font>"
   ]
  },
  {
   "cell_type": "code",
   "execution_count": 37,
   "metadata": {
    "scrolled": true
   },
   "outputs": [],
   "source": [
    "from keras.preprocessing import image\n",
    "from keras.applications.vgg16 import VGG16\n",
    "from keras.applications.vgg16 import preprocess_input\n",
    "import numpy as np\n",
    "from sklearn.cluster import KMeans\n",
    "import os, shutil, glob, os.path\n",
    "from PIL import Image as pil_image\n",
    "image.LOAD_TRUNCATED_IMAGES = True"
   ]
  },
  {
   "cell_type": "code",
   "execution_count": 38,
   "metadata": {},
   "outputs": [],
   "source": [
    "model = VGG16(weights='imagenet', include_top=False)"
   ]
  },
  {
   "cell_type": "code",
   "execution_count": 39,
   "metadata": {},
   "outputs": [],
   "source": [
    "# Variables\n",
    "imdir = r'pathto\\Implementation\\Images'\n",
    "targetdir = r'pathto\\Implementation\\output'\n",
    "number_clusters = 30"
   ]
  },
  {
   "cell_type": "code",
   "execution_count": 40,
   "metadata": {},
   "outputs": [],
   "source": [
    "# Loop over files and get features\n",
    "filelist = glob.glob(os.path.join(imdir, '*/*.JPG'))\n",
    "filelist.sort()\n",
    "featurelist = []\n",
    "labels = []"
   ]
  },
  {
   "cell_type": "code",
   "execution_count": 41,
   "metadata": {},
   "outputs": [
    {
     "name": "stdout",
     "output_type": "stream",
     "text": [
      "C:/Users/Intel/Desktop/VIT/Labelled Dataset - Fig 51/Labelled Dataset - Fig 51/ai/69.JPG\n",
      "C:/Users/Intel/Desktop/VIT/Labelled Dataset - Fig 51/Labelled Dataset - Fig 51/c/4.JPG\n",
      "C:/Users/Intel/Desktop/VIT/Labelled Dataset - Fig 51/Labelled Dataset - Fig 51/c/45.JPG\n",
      "C:/Users/Intel/Desktop/VIT/Labelled Dataset - Fig 51/Labelled Dataset - Fig 51/c/53.JPG\n",
      "C:/Users/Intel/Desktop/VIT/Labelled Dataset - Fig 51/Labelled Dataset - Fig 51/c/74.JPG\n",
      "C:/Users/Intel/Desktop/VIT/Labelled Dataset - Fig 51/Labelled Dataset - Fig 51/e/32.JPG\n",
      "C:/Users/Intel/Desktop/VIT/Labelled Dataset - Fig 51/Labelled Dataset - Fig 51/e/88.JPG\n",
      "C:/Users/Intel/Desktop/VIT/Labelled Dataset - Fig 51/Labelled Dataset - Fig 51/i/111.JPG\n",
      "C:/Users/Intel/Desktop/VIT/Labelled Dataset - Fig 51/Labelled Dataset - Fig 51/i/20.JPG\n",
      "C:/Users/Intel/Desktop/VIT/Labelled Dataset - Fig 51/Labelled Dataset - Fig 51/i/94.JPG\n",
      "C:/Users/Intel/Desktop/VIT/Labelled Dataset - Fig 51/Labelled Dataset - Fig 51/k/1.JPG\n",
      "C:/Users/Intel/Desktop/VIT/Labelled Dataset - Fig 51/Labelled Dataset - Fig 51/k/128.JPG\n",
      "C:/Users/Intel/Desktop/VIT/Labelled Dataset - Fig 51/Labelled Dataset - Fig 51/k/34.JPG\n",
      "C:/Users/Intel/Desktop/VIT/Labelled Dataset - Fig 51/Labelled Dataset - Fig 51/k/40.JPG\n",
      "C:/Users/Intel/Desktop/VIT/Labelled Dataset - Fig 51/Labelled Dataset - Fig 51/k/43.JPG\n",
      "C:/Users/Intel/Desktop/VIT/Labelled Dataset - Fig 51/Labelled Dataset - Fig 51/k/47.JPG\n",
      "C:/Users/Intel/Desktop/VIT/Labelled Dataset - Fig 51/Labelled Dataset - Fig 51/k/58.JPG\n",
      "C:/Users/Intel/Desktop/VIT/Labelled Dataset - Fig 51/Labelled Dataset - Fig 51/k/71.JPG\n",
      "C:/Users/Intel/Desktop/VIT/Labelled Dataset - Fig 51/Labelled Dataset - Fig 51/k/76.JPG\n",
      "C:/Users/Intel/Desktop/VIT/Labelled Dataset - Fig 51/Labelled Dataset - Fig 51/k/79.JPG\n",
      "C:/Users/Intel/Desktop/VIT/Labelled Dataset - Fig 51/Labelled Dataset - Fig 51/l5/2.JPG\n",
      "C:/Users/Intel/Desktop/VIT/Labelled Dataset - Fig 51/Labelled Dataset - Fig 51/l5/35.JPG\n",
      "C:/Users/Intel/Desktop/VIT/Labelled Dataset - Fig 51/Labelled Dataset - Fig 51/l5/72.JPG\n",
      "C:/Users/Intel/Desktop/VIT/Labelled Dataset - Fig 51/Labelled Dataset - Fig 51/l5u4/115.JPG\n",
      "C:/Users/Intel/Desktop/VIT/Labelled Dataset - Fig 51/Labelled Dataset - Fig 51/l5u/33.JPG\n",
      "C:/Users/Intel/Desktop/VIT/Labelled Dataset - Fig 51/Labelled Dataset - Fig 51/l5u/89.JPG\n",
      "C:/Users/Intel/Desktop/VIT/Labelled Dataset - Fig 51/Labelled Dataset - Fig 51/l/107.JPG\n",
      "C:/Users/Intel/Desktop/VIT/Labelled Dataset - Fig 51/Labelled Dataset - Fig 51/l/11.JPG\n",
      "C:/Users/Intel/Desktop/VIT/Labelled Dataset - Fig 51/Labelled Dataset - Fig 51/l/120.JPG\n",
      "C:/Users/Intel/Desktop/VIT/Labelled Dataset - Fig 51/Labelled Dataset - Fig 51/l/42.JPG\n",
      "C:/Users/Intel/Desktop/VIT/Labelled Dataset - Fig 51/Labelled Dataset - Fig 51/l/44.JPG\n",
      "C:/Users/Intel/Desktop/VIT/Labelled Dataset - Fig 51/Labelled Dataset - Fig 51/l/49.JPG\n",
      "C:/Users/Intel/Desktop/VIT/Labelled Dataset - Fig 51/Labelled Dataset - Fig 51/n1/14.JPG\n",
      "C:/Users/Intel/Desktop/VIT/Labelled Dataset - Fig 51/Labelled Dataset - Fig 51/n1/24.JPG\n",
      "C:/Users/Intel/Desktop/VIT/Labelled Dataset - Fig 51/Labelled Dataset - Fig 51/n1/65.JPG\n",
      "C:/Users/Intel/Desktop/VIT/Labelled Dataset - Fig 51/Labelled Dataset - Fig 51/n1u4/103.JPG\n",
      "C:/Users/Intel/Desktop/VIT/Labelled Dataset - Fig 51/Labelled Dataset - Fig 51/n2/29.JPG\n",
      "C:/Users/Intel/Desktop/VIT/Labelled Dataset - Fig 51/Labelled Dataset - Fig 51/n2/52.JPG\n",
      "C:/Users/Intel/Desktop/VIT/Labelled Dataset - Fig 51/Labelled Dataset - Fig 51/n2/96.JPG\n",
      "C:/Users/Intel/Desktop/VIT/Labelled Dataset - Fig 51/Labelled Dataset - Fig 51/n2u4/30.JPG\n",
      "C:/Users/Intel/Desktop/VIT/Labelled Dataset - Fig 51/Labelled Dataset - Fig 51/n2u4/31.JPG\n",
      "C:/Users/Intel/Desktop/VIT/Labelled Dataset - Fig 51/Labelled Dataset - Fig 51/n3/3.JPG\n",
      "C:/Users/Intel/Desktop/VIT/Labelled Dataset - Fig 51/Labelled Dataset - Fig 51/n3/36.JPG\n",
      "C:/Users/Intel/Desktop/VIT/Labelled Dataset - Fig 51/Labelled Dataset - Fig 51/n3/73.JPG\n",
      "C:/Users/Intel/Desktop/VIT/Labelled Dataset - Fig 51/Labelled Dataset - Fig 51/n5/110.JPG\n",
      "C:/Users/Intel/Desktop/VIT/Labelled Dataset - Fig 51/Labelled Dataset - Fig 51/n5/116.JPG\n",
      "C:/Users/Intel/Desktop/VIT/Labelled Dataset - Fig 51/Labelled Dataset - Fig 51/n5/123.JPG\n",
      "C:/Users/Intel/Desktop/VIT/Labelled Dataset - Fig 51/Labelled Dataset - Fig 51/n5/13.JPG\n",
      "C:/Users/Intel/Desktop/VIT/Labelled Dataset - Fig 51/Labelled Dataset - Fig 51/n5/19.JPG\n",
      "C:/Users/Intel/Desktop/VIT/Labelled Dataset - Fig 51/Labelled Dataset - Fig 51/n5/64.JPG\n",
      "C:/Users/Intel/Desktop/VIT/Labelled Dataset - Fig 51/Labelled Dataset - Fig 51/n5/68.JPG\n",
      "C:/Users/Intel/Desktop/VIT/Labelled Dataset - Fig 51/Labelled Dataset - Fig 51/n/105.JPG\n",
      "C:/Users/Intel/Desktop/VIT/Labelled Dataset - Fig 51/Labelled Dataset - Fig 51/n/118.JPG\n",
      "C:/Users/Intel/Desktop/VIT/Labelled Dataset - Fig 51/Labelled Dataset - Fig 51/n/126.JPG\n",
      "C:/Users/Intel/Desktop/VIT/Labelled Dataset - Fig 51/Labelled Dataset - Fig 51/o/12.JPG\n",
      "C:/Users/Intel/Desktop/VIT/Labelled Dataset - Fig 51/Labelled Dataset - Fig 51/o/63.JPG\n",
      "C:/Users/Intel/Desktop/VIT/Labelled Dataset - Fig 51/Labelled Dataset - Fig 51/o/7.JPG\n",
      "C:/Users/Intel/Desktop/VIT/Labelled Dataset - Fig 51/Labelled Dataset - Fig 51/p/113.JPG\n",
      "C:/Users/Intel/Desktop/VIT/Labelled Dataset - Fig 51/Labelled Dataset - Fig 51/p/124.JPG\n",
      "C:/Users/Intel/Desktop/VIT/Labelled Dataset - Fig 51/Labelled Dataset - Fig 51/p/55.JPG\n",
      "C:/Users/Intel/Desktop/VIT/Labelled Dataset - Fig 51/Labelled Dataset - Fig 51/p/83.JPG\n",
      "C:/Users/Intel/Desktop/VIT/Labelled Dataset - Fig 51/Labelled Dataset - Fig 51/p/90.JPG\n",
      "C:/Users/Intel/Desktop/VIT/Labelled Dataset - Fig 51/Labelled Dataset - Fig 51/p/98.JPG\n",
      "C:/Users/Intel/Desktop/VIT/Labelled Dataset - Fig 51/Labelled Dataset - Fig 51/pu4/102.JPG\n",
      "C:/Users/Intel/Desktop/VIT/Labelled Dataset - Fig 51/Labelled Dataset - Fig 51/pu4/114.JPG\n",
      "C:/Users/Intel/Desktop/VIT/Labelled Dataset - Fig 51/Labelled Dataset - Fig 51/pu4/62.JPG\n",
      "C:/Users/Intel/Desktop/VIT/Labelled Dataset - Fig 51/Labelled Dataset - Fig 51/pu4/87.JPG\n",
      "C:/Users/Intel/Desktop/VIT/Labelled Dataset - Fig 51/Labelled Dataset - Fig 51/r5/101.JPG\n",
      "C:/Users/Intel/Desktop/VIT/Labelled Dataset - Fig 51/Labelled Dataset - Fig 51/r5/23.JPG\n",
      "C:/Users/Intel/Desktop/VIT/Labelled Dataset - Fig 51/Labelled Dataset - Fig 51/r5/86.JPG\n",
      "C:/Users/Intel/Desktop/VIT/Labelled Dataset - Fig 51/Labelled Dataset - Fig 51/r5i/104.JPG\n",
      "C:/Users/Intel/Desktop/VIT/Labelled Dataset - Fig 51/Labelled Dataset - Fig 51/r5i/117.JPG\n",
      "C:/Users/Intel/Desktop/VIT/Labelled Dataset - Fig 51/Labelled Dataset - Fig 51/r/106.JPG\n",
      "C:/Users/Intel/Desktop/VIT/Labelled Dataset - Fig 51/Labelled Dataset - Fig 51/r/119.JPG\n",
      "C:/Users/Intel/Desktop/VIT/Labelled Dataset - Fig 51/Labelled Dataset - Fig 51/r/127.JPG\n",
      "C:/Users/Intel/Desktop/VIT/Labelled Dataset - Fig 51/Labelled Dataset - Fig 51/r/28.JPG\n",
      "C:/Users/Intel/Desktop/VIT/Labelled Dataset - Fig 51/Labelled Dataset - Fig 51/r/41.JPG\n",
      "C:/Users/Intel/Desktop/VIT/Labelled Dataset - Fig 51/Labelled Dataset - Fig 51/r/48.JPG\n",
      "C:/Users/Intel/Desktop/VIT/Labelled Dataset - Fig 51/Labelled Dataset - Fig 51/r/54.JPG\n",
      "C:/Users/Intel/Desktop/VIT/Labelled Dataset - Fig 51/Labelled Dataset - Fig 51/r/75.JPG\n",
      "C:/Users/Intel/Desktop/VIT/Labelled Dataset - Fig 51/Labelled Dataset - Fig 51/r/95.JPG\n",
      "C:/Users/Intel/Desktop/VIT/Labelled Dataset - Fig 51/Labelled Dataset - Fig 51/ru/112.JPG\n",
      "C:/Users/Intel/Desktop/VIT/Labelled Dataset - Fig 51/Labelled Dataset - Fig 51/ru/21.JPG\n",
      "C:/Users/Intel/Desktop/VIT/Labelled Dataset - Fig 51/Labelled Dataset - Fig 51/ru/82.JPG\n",
      "C:/Users/Intel/Desktop/VIT/Labelled Dataset - Fig 51/Labelled Dataset - Fig 51/t/25.JPG\n",
      "C:/Users/Intel/Desktop/VIT/Labelled Dataset - Fig 51/Labelled Dataset - Fig 51/t/77.JPG\n",
      "C:/Users/Intel/Desktop/VIT/Labelled Dataset - Fig 51/Labelled Dataset - Fig 51/t/80.JPG\n",
      "C:/Users/Intel/Desktop/VIT/Labelled Dataset - Fig 51/Labelled Dataset - Fig 51/t/91.JPG\n",
      "C:/Users/Intel/Desktop/VIT/Labelled Dataset - Fig 51/Labelled Dataset - Fig 51/t/97.JPG\n",
      "C:/Users/Intel/Desktop/VIT/Labelled Dataset - Fig 51/Labelled Dataset - Fig 51/ti/125.JPG\n",
      "C:/Users/Intel/Desktop/VIT/Labelled Dataset - Fig 51/Labelled Dataset - Fig 51/ti/78.JPG\n",
      "C:/Users/Intel/Desktop/VIT/Labelled Dataset - Fig 51/Labelled Dataset - Fig 51/ti/81.JPG\n",
      "C:/Users/Intel/Desktop/VIT/Labelled Dataset - Fig 51/Labelled Dataset - Fig 51/y/39.JPG\n"
     ]
    },
    {
     "name": "stdout",
     "output_type": "stream",
     "text": [
      "C:/Users/Intel/Desktop/VIT/Labelled Dataset - Fig 51/Labelled Dataset - Fig 51/y/46.JPG\n",
      "C:/Users/Intel/Desktop/VIT/Labelled Dataset - Fig 51/Labelled Dataset - Fig 51/y/61.JPG\n",
      "Labels -  ['Labelled Dataset - Fig 51', 'Labelled Dataset - Fig 51', 'Labelled Dataset - Fig 51', 'Labelled Dataset - Fig 51', 'Labelled Dataset - Fig 51', 'Labelled Dataset - Fig 51', 'Labelled Dataset - Fig 51', 'Labelled Dataset - Fig 51', 'Labelled Dataset - Fig 51', 'Labelled Dataset - Fig 51', 'Labelled Dataset - Fig 51', 'Labelled Dataset - Fig 51', 'Labelled Dataset - Fig 51', 'Labelled Dataset - Fig 51', 'Labelled Dataset - Fig 51', 'Labelled Dataset - Fig 51', 'Labelled Dataset - Fig 51', 'Labelled Dataset - Fig 51', 'Labelled Dataset - Fig 51', 'Labelled Dataset - Fig 51', 'Labelled Dataset - Fig 51', 'Labelled Dataset - Fig 51', 'Labelled Dataset - Fig 51', 'Labelled Dataset - Fig 51', 'Labelled Dataset - Fig 51', 'Labelled Dataset - Fig 51', 'Labelled Dataset - Fig 51', 'Labelled Dataset - Fig 51', 'Labelled Dataset - Fig 51', 'Labelled Dataset - Fig 51', 'Labelled Dataset - Fig 51', 'Labelled Dataset - Fig 51', 'Labelled Dataset - Fig 51', 'Labelled Dataset - Fig 51', 'Labelled Dataset - Fig 51', 'Labelled Dataset - Fig 51', 'Labelled Dataset - Fig 51', 'Labelled Dataset - Fig 51', 'Labelled Dataset - Fig 51', 'Labelled Dataset - Fig 51', 'Labelled Dataset - Fig 51', 'Labelled Dataset - Fig 51', 'Labelled Dataset - Fig 51', 'Labelled Dataset - Fig 51', 'Labelled Dataset - Fig 51', 'Labelled Dataset - Fig 51', 'Labelled Dataset - Fig 51', 'Labelled Dataset - Fig 51', 'Labelled Dataset - Fig 51', 'Labelled Dataset - Fig 51', 'Labelled Dataset - Fig 51', 'Labelled Dataset - Fig 51', 'Labelled Dataset - Fig 51', 'Labelled Dataset - Fig 51', 'Labelled Dataset - Fig 51', 'Labelled Dataset - Fig 51', 'Labelled Dataset - Fig 51', 'Labelled Dataset - Fig 51', 'Labelled Dataset - Fig 51', 'Labelled Dataset - Fig 51', 'Labelled Dataset - Fig 51', 'Labelled Dataset - Fig 51', 'Labelled Dataset - Fig 51', 'Labelled Dataset - Fig 51', 'Labelled Dataset - Fig 51', 'Labelled Dataset - Fig 51', 'Labelled Dataset - Fig 51', 'Labelled Dataset - Fig 51', 'Labelled Dataset - Fig 51', 'Labelled Dataset - Fig 51', 'Labelled Dataset - Fig 51', 'Labelled Dataset - Fig 51', 'Labelled Dataset - Fig 51', 'Labelled Dataset - Fig 51', 'Labelled Dataset - Fig 51', 'Labelled Dataset - Fig 51', 'Labelled Dataset - Fig 51', 'Labelled Dataset - Fig 51', 'Labelled Dataset - Fig 51', 'Labelled Dataset - Fig 51', 'Labelled Dataset - Fig 51', 'Labelled Dataset - Fig 51', 'Labelled Dataset - Fig 51', 'Labelled Dataset - Fig 51', 'Labelled Dataset - Fig 51', 'Labelled Dataset - Fig 51', 'Labelled Dataset - Fig 51', 'Labelled Dataset - Fig 51', 'Labelled Dataset - Fig 51', 'Labelled Dataset - Fig 51', 'Labelled Dataset - Fig 51', 'Labelled Dataset - Fig 51', 'Labelled Dataset - Fig 51', 'Labelled Dataset - Fig 51', 'Labelled Dataset - Fig 51']\n"
     ]
    }
   ],
   "source": [
    "for i, imagepath in enumerate(filelist):\n",
    "    print(\"Status: %s / %s\" %(i+1, len(filelist)), end=\"\\r\")\n",
    "    img = image.load_img(imagepath, target_size=(224, 224))\n",
    "    imagepath = imagepath.replace(\"\\\\\", \"/\")\n",
    "    print(imagepath)    \n",
    "    start = (imagepath[51:]).index(\"/\")\n",
    "    end = (imagepath[51+1+start:]).index(\"/\")\n",
    "    labels.append(imagepath[52+start:52+start+end])  \n",
    "    \n",
    "    img_data = image.img_to_array(img)\n",
    "    img_data = np.expand_dims(img_data, axis=0)\n",
    "    img_data = preprocess_input(img_data)\n",
    "    features = np.array(model.predict(img_data))\n",
    "    featurelist.append(features.flatten())\n",
    "\n",
    "print(\"Labels - \", labels)"
   ]
  },
  {
   "cell_type": "code",
   "execution_count": 42,
   "metadata": {},
   "outputs": [],
   "source": [
    "# Clustering\n",
    "kmeans = KMeans(n_clusters=number_clusters, random_state=0).fit(np.array(featurelist))"
   ]
  },
  {
   "cell_type": "code",
   "execution_count": 43,
   "metadata": {},
   "outputs": [],
   "source": [
    "try:\n",
    "    os.makedirs(targetdir)\n",
    "except OSError:\n",
    "    pass"
   ]
  },
  {
   "cell_type": "code",
   "execution_count": 44,
   "metadata": {},
   "outputs": [
    {
     "name": "stdout",
     "output_type": "stream",
     "text": [
      "\n",
      "\n",
      "Copy: 95 / 95\r"
     ]
    }
   ],
   "source": [
    "print(\"\\n\")\n",
    "for i, m in enumerate(kmeans.labels_):\n",
    "    try:\n",
    "        os.makedirs(targetdir+'\\\\'+str(m))\n",
    "        #print(m)\n",
    "    except OSError:\n",
    "        pass\n",
    "    print(\"Copy: %s / %s\" %(i+1, len(kmeans.labels_)), end=\"\\r\")\n",
    "    shutil.copy(filelist[i], targetdir +'/'+ str(m) + \"/\" + str(i) + \".jpg\")"
   ]
  },
  {
   "cell_type": "markdown",
   "metadata": {},
   "source": [
    " "
   ]
  },
  {
   "cell_type": "markdown",
   "metadata": {},
   "source": [
    " "
   ]
  }
 ],
 "metadata": {
  "kernelspec": {
   "display_name": "Python 3",
   "language": "python",
   "name": "python3"
  },
  "language_info": {
   "codemirror_mode": {
    "name": "ipython",
    "version": 3
   },
   "file_extension": ".py",
   "mimetype": "text/x-python",
   "name": "python",
   "nbconvert_exporter": "python",
   "pygments_lexer": "ipython3",
   "version": "3.7.3"
  }
 },
 "nbformat": 4,
 "nbformat_minor": 2
}
