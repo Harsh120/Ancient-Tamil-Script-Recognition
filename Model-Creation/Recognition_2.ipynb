{
 "cells": [
  {
   "cell_type": "code",
   "execution_count": 1,
   "metadata": {},
   "outputs": [
    {
     "name": "stderr",
     "output_type": "stream",
     "text": [
      "Using TensorFlow backend.\n"
     ]
    }
   ],
   "source": [
    "#importing necessary packages\n",
    "\n",
    "import tensorflow as tf \n",
    "from tensorflow.keras.models import Sequential\n",
    "from tensorflow.keras.layers import Dense, Dropout, Activation, Flatten, Conv2D, MaxPooling2D\n",
    "import pickle\n",
    "from keras.models import model_from_json\n",
    "from keras.models import load_model\n",
    "import matplotlib.pyplot as plt\n",
    "from pathlib import Path\n",
    "import os, pickle"
   ]
  },
  {
   "cell_type": "code",
   "execution_count": 2,
   "metadata": {},
   "outputs": [],
   "source": [
    "#Loading pickle files\n",
    "\n",
    "file_path_X = open(os.path.join(r\"path_to\\X.pickle\"), 'rb')\n",
    "file_path_Y = open(os.path.join(r\"path_to\\Y.pickle\"), 'rb')\n",
    "X = pickle.load(file_path_X)\n",
    "y = pickle.load(file_path_Y)"
   ]
  },
  {
   "cell_type": "code",
   "execution_count": 3,
   "metadata": {},
   "outputs": [],
   "source": [
    "number_of_classes = max(y) + 1 #Number of classes"
   ]
  },
  {
   "cell_type": "code",
   "execution_count": 4,
   "metadata": {},
   "outputs": [],
   "source": [
    "X = X/255.0 #Normalising the images"
   ]
  },
  {
   "cell_type": "code",
   "execution_count": 5,
   "metadata": {},
   "outputs": [
    {
     "name": "stdout",
     "output_type": "stream",
     "text": [
      "(95, 50, 50, 1)\n"
     ]
    }
   ],
   "source": [
    "print(X.shape)"
   ]
  },
  {
   "cell_type": "code",
   "execution_count": 6,
   "metadata": {},
   "outputs": [
    {
     "name": "stdout",
     "output_type": "stream",
     "text": [
      "WARNING:tensorflow:From resource_variable_ops.py:435: colocate_with (from tensorflow.python.framework.ops) is deprecated and will be removed in a future version.\n",
      "Instructions for updating:\n",
      "Colocations handled automatically by placer.\n",
      "WARNING:tensorflow:From core.py:143: calling dropout (from tensorflow.python.ops.nn_ops) with keep_prob is deprecated and will be removed in a future version.\n",
      "Instructions for updating:\n",
      "Please use `rate` instead of `keep_prob`. Rate should be set to `rate = 1 - keep_prob`.\n"
     ]
    }
   ],
   "source": [
    "# Building the model\n",
    "model = Sequential()\n",
    "# 3 convolutional layers\n",
    "model.add(Conv2D(64, (3, 3), input_shape = X.shape[1:]))\n",
    "model.add(Activation(\"relu\"))\n",
    "model.add(MaxPooling2D(pool_size=(2,2)))\n",
    "\n",
    "model.add(Conv2D(32, (3, 3)))\n",
    "model.add(Activation(\"relu\"))\n",
    "model.add(MaxPooling2D(pool_size=(2,2)))\n",
    "\n",
    "model.add(Conv2D(32, (3, 3)))\n",
    "model.add(Activation(\"relu\"))\n",
    "model.add(MaxPooling2D(pool_size=(2,2)))\n",
    "model.add(Dropout(0.25))\n",
    "\n",
    "# 2 hidden layers\n",
    "model.add(Flatten()) #Transforms all information from previous convolutions into inputs for neurons\n",
    "model.add(Dense(128))\n",
    "model.add(Activation(\"relu\"))\n",
    "\n",
    "model.add(Dense(128))\n",
    "model.add(Activation(\"relu\"))\n",
    "\n",
    "# The output layer for given number of classes\n",
    "model.add(Dense(number_of_classes))\n",
    "model.add(Activation(\"softmax\"))\n",
    "\n",
    "# Compiling the model using some basic parameters\n",
    "model.compile(loss=\"sparse_categorical_crossentropy\",\n",
    "              optimizer=\"adam\",\n",
    "              metrics=[\"accuracy\"])"
   ]
  },
  {
   "cell_type": "code",
   "execution_count": 7,
   "metadata": {
    "scrolled": true
   },
   "outputs": [
    {
     "name": "stdout",
     "output_type": "stream",
     "text": [
      "Train on 85 samples, validate on 10 samples\n",
      "Epoch 1/40\n",
      "85/85 [==============================] - 3s 33ms/sample - loss: 3.2572 - acc: 0.0588 - val_loss: 3.2490 - val_acc: 0.0000e+00\n",
      "Epoch 2/40\n",
      "85/85 [==============================] - 0s 4ms/sample - loss: 3.2165 - acc: 0.0824 - val_loss: 3.2619 - val_acc: 0.0000e+00\n",
      "Epoch 3/40\n",
      "85/85 [==============================] - 0s 4ms/sample - loss: 3.1565 - acc: 0.0824 - val_loss: 3.2968 - val_acc: 0.0000e+00\n",
      "Epoch 4/40\n",
      "85/85 [==============================] - 0s 4ms/sample - loss: 3.1132 - acc: 0.0824 - val_loss: 3.3860 - val_acc: 0.0000e+00\n",
      "Epoch 5/40\n",
      "85/85 [==============================] - 0s 4ms/sample - loss: 3.0570 - acc: 0.1412 - val_loss: 3.4461 - val_acc: 0.3000\n",
      "Epoch 6/40\n",
      "85/85 [==============================] - 0s 4ms/sample - loss: 3.0418 - acc: 0.1294 - val_loss: 3.4054 - val_acc: 0.1000\n",
      "Epoch 7/40\n",
      "85/85 [==============================] - 0s 4ms/sample - loss: 2.9850 - acc: 0.2000 - val_loss: 3.3959 - val_acc: 0.1000\n",
      "Epoch 8/40\n",
      "85/85 [==============================] - 0s 4ms/sample - loss: 2.9326 - acc: 0.2941 - val_loss: 3.4515 - val_acc: 0.2000\n",
      "Epoch 9/40\n",
      "85/85 [==============================] - 0s 4ms/sample - loss: 2.8289 - acc: 0.3059 - val_loss: 3.4428 - val_acc: 0.3000\n",
      "Epoch 10/40\n",
      "85/85 [==============================] - 0s 4ms/sample - loss: 2.7083 - acc: 0.3412 - val_loss: 3.4161 - val_acc: 0.3000\n",
      "Epoch 11/40\n",
      "85/85 [==============================] - 0s 4ms/sample - loss: 2.5498 - acc: 0.4588 - val_loss: 3.3245 - val_acc: 0.3000\n",
      "Epoch 12/40\n",
      "85/85 [==============================] - 0s 4ms/sample - loss: 2.3145 - acc: 0.4588 - val_loss: 3.4260 - val_acc: 0.3000\n",
      "Epoch 13/40\n",
      "85/85 [==============================] - 0s 4ms/sample - loss: 2.0168 - acc: 0.5412 - val_loss: 3.4148 - val_acc: 0.3000\n",
      "Epoch 14/40\n",
      "85/85 [==============================] - 0s 5ms/sample - loss: 1.6899 - acc: 0.6118 - val_loss: 3.3257 - val_acc: 0.3000\n",
      "Epoch 15/40\n",
      "85/85 [==============================] - 0s 4ms/sample - loss: 1.4125 - acc: 0.6353 - val_loss: 3.1468 - val_acc: 0.3000\n",
      "Epoch 16/40\n",
      "85/85 [==============================] - 0s 4ms/sample - loss: 1.1772 - acc: 0.6824 - val_loss: 3.0828 - val_acc: 0.3000\n",
      "Epoch 17/40\n",
      "85/85 [==============================] - 0s 4ms/sample - loss: 0.9187 - acc: 0.7412 - val_loss: 3.1356 - val_acc: 0.4000\n",
      "Epoch 18/40\n",
      "85/85 [==============================] - 0s 4ms/sample - loss: 0.7971 - acc: 0.7647 - val_loss: 3.3521 - val_acc: 0.6000\n",
      "Epoch 19/40\n",
      "85/85 [==============================] - 0s 4ms/sample - loss: 0.5041 - acc: 0.8706 - val_loss: 3.2916 - val_acc: 0.6000\n",
      "Epoch 20/40\n",
      "85/85 [==============================] - 0s 4ms/sample - loss: 0.4238 - acc: 0.8941 - val_loss: 3.0200 - val_acc: 0.6000\n",
      "Epoch 21/40\n",
      "85/85 [==============================] - 0s 5ms/sample - loss: 0.3108 - acc: 0.9059 - val_loss: 2.9099 - val_acc: 0.7000\n",
      "Epoch 22/40\n",
      "85/85 [==============================] - 0s 4ms/sample - loss: 0.2297 - acc: 0.9412 - val_loss: 2.8135 - val_acc: 0.7000\n",
      "Epoch 23/40\n",
      "85/85 [==============================] - 0s 5ms/sample - loss: 0.1867 - acc: 0.9294 - val_loss: 2.9570 - val_acc: 0.6000\n",
      "Epoch 24/40\n",
      "85/85 [==============================] - 0s 6ms/sample - loss: 0.1192 - acc: 0.9765 - val_loss: 3.0364 - val_acc: 0.7000\n",
      "Epoch 25/40\n",
      "85/85 [==============================] - 0s 5ms/sample - loss: 0.0770 - acc: 0.9882 - val_loss: 3.2243 - val_acc: 0.7000\n",
      "Epoch 26/40\n",
      "85/85 [==============================] - 0s 5ms/sample - loss: 0.0742 - acc: 0.9882 - val_loss: 3.3566 - val_acc: 0.7000\n",
      "Epoch 27/40\n",
      "85/85 [==============================] - 0s 5ms/sample - loss: 0.1336 - acc: 0.9765 - val_loss: 3.2554 - val_acc: 0.7000\n",
      "Epoch 28/40\n",
      "85/85 [==============================] - 0s 4ms/sample - loss: 0.0613 - acc: 0.9882 - val_loss: 3.3176 - val_acc: 0.6000\n",
      "Epoch 29/40\n",
      "85/85 [==============================] - 0s 4ms/sample - loss: 0.1121 - acc: 0.9647 - val_loss: 3.1324 - val_acc: 0.7000\n",
      "Epoch 30/40\n",
      "85/85 [==============================] - 0s 5ms/sample - loss: 0.0485 - acc: 0.9882 - val_loss: 3.4298 - val_acc: 0.6000\n",
      "Epoch 31/40\n",
      "85/85 [==============================] - 0s 5ms/sample - loss: 0.0937 - acc: 0.9765 - val_loss: 3.3559 - val_acc: 0.7000\n",
      "Epoch 32/40\n",
      "85/85 [==============================] - 0s 4ms/sample - loss: 0.0423 - acc: 1.0000 - val_loss: 3.2534 - val_acc: 0.7000\n",
      "Epoch 33/40\n",
      "85/85 [==============================] - 0s 5ms/sample - loss: 0.0638 - acc: 0.9647 - val_loss: 3.4366 - val_acc: 0.7000\n",
      "Epoch 34/40\n",
      "85/85 [==============================] - 0s 5ms/sample - loss: 0.0365 - acc: 0.9882 - val_loss: 3.4358 - val_acc: 0.7000\n",
      "Epoch 35/40\n",
      "85/85 [==============================] - 0s 5ms/sample - loss: 0.0544 - acc: 0.9647 - val_loss: 3.4468 - val_acc: 0.7000\n",
      "Epoch 36/40\n",
      "85/85 [==============================] - 0s 4ms/sample - loss: 0.0188 - acc: 1.0000 - val_loss: 3.5997 - val_acc: 0.7000\n",
      "Epoch 37/40\n",
      "85/85 [==============================] - 0s 5ms/sample - loss: 0.0140 - acc: 1.0000 - val_loss: 3.7044 - val_acc: 0.7000\n",
      "Epoch 38/40\n",
      "85/85 [==============================] - 0s 4ms/sample - loss: 0.0614 - acc: 0.9765 - val_loss: 3.2889 - val_acc: 0.8000\n",
      "Epoch 39/40\n",
      "85/85 [==============================] - 1s 7ms/sample - loss: 0.0107 - acc: 1.0000 - val_loss: 3.2490 - val_acc: 0.8000\n",
      "Epoch 40/40\n",
      "85/85 [==============================] - 0s 4ms/sample - loss: 0.0689 - acc: 0.9765 - val_loss: 3.1994 - val_acc: 0.8000\n"
     ]
    }
   ],
   "source": [
    "# Training the model, with 40 iterations\n",
    "# validation_split corresponds to the percentage of images used for the validation phase compared to all the images\n",
    "history = model.fit(X, y, batch_size=32, epochs=40, validation_split=0.1)"
   ]
  },
  {
   "cell_type": "code",
   "execution_count": 8,
   "metadata": {},
   "outputs": [
    {
     "name": "stdout",
     "output_type": "stream",
     "text": [
      "_________________________________________________________________\n",
      "Layer (type)                 Output Shape              Param #   \n",
      "=================================================================\n",
      "conv2d (Conv2D)              (None, 48, 48, 64)        640       \n",
      "_________________________________________________________________\n",
      "activation (Activation)      (None, 48, 48, 64)        0         \n",
      "_________________________________________________________________\n",
      "max_pooling2d (MaxPooling2D) (None, 24, 24, 64)        0         \n",
      "_________________________________________________________________\n",
      "conv2d_1 (Conv2D)            (None, 22, 22, 32)        18464     \n",
      "_________________________________________________________________\n",
      "activation_1 (Activation)    (None, 22, 22, 32)        0         \n",
      "_________________________________________________________________\n",
      "max_pooling2d_1 (MaxPooling2 (None, 11, 11, 32)        0         \n",
      "_________________________________________________________________\n",
      "conv2d_2 (Conv2D)            (None, 9, 9, 32)          9248      \n",
      "_________________________________________________________________\n",
      "activation_2 (Activation)    (None, 9, 9, 32)          0         \n",
      "_________________________________________________________________\n",
      "max_pooling2d_2 (MaxPooling2 (None, 4, 4, 32)          0         \n",
      "_________________________________________________________________\n",
      "dropout (Dropout)            (None, 4, 4, 32)          0         \n",
      "_________________________________________________________________\n",
      "flatten (Flatten)            (None, 512)               0         \n",
      "_________________________________________________________________\n",
      "dense (Dense)                (None, 128)               65664     \n",
      "_________________________________________________________________\n",
      "activation_3 (Activation)    (None, 128)               0         \n",
      "_________________________________________________________________\n",
      "dense_1 (Dense)              (None, 128)               16512     \n",
      "_________________________________________________________________\n",
      "activation_4 (Activation)    (None, 128)               0         \n",
      "_________________________________________________________________\n",
      "dense_2 (Dense)              (None, 26)                3354      \n",
      "_________________________________________________________________\n",
      "activation_5 (Activation)    (None, 26)                0         \n",
      "=================================================================\n",
      "Total params: 113,882\n",
      "Trainable params: 113,882\n",
      "Non-trainable params: 0\n",
      "_________________________________________________________________\n"
     ]
    }
   ],
   "source": [
    "model.summary()"
   ]
  },
  {
   "cell_type": "code",
   "execution_count": 9,
   "metadata": {},
   "outputs": [
    {
     "name": "stdout",
     "output_type": "stream",
     "text": [
      "Saved model to disk\n"
     ]
    }
   ],
   "source": [
    "#Saving the model in local machine\n",
    "model.save_weights(\"model.h5\")\n",
    "print(\"Saved model to disk\")\n",
    "\n",
    "model.save('CNN.model')"
   ]
  },
  {
   "cell_type": "code",
   "execution_count": 10,
   "metadata": {},
   "outputs": [
    {
     "name": "stdout",
     "output_type": "stream",
     "text": [
      "dict_keys(['loss', 'acc', 'val_loss', 'val_acc'])\n"
     ]
    },
    {
     "data": {
      "text/plain": [
       "<matplotlib.legend.Legend at 0x1f890657e48>"
      ]
     },
     "execution_count": 10,
     "metadata": {},
     "output_type": "execute_result"
    },
    {
     "data": {
      "image/png": "[encoded data removed]",
      "text/plain": [
       "<Figure size 432x288 with 1 Axes>"
      ]
     },
     "metadata": {
      "needs_background": "light"
     },
     "output_type": "display_data"
    }
   ],
   "source": [
    "# Printing a graph showing the accuracy changes during the training phase\n",
    "print(history.history.keys())\n",
    "plt.figure(1)\n",
    "plt.plot(history.history['acc'])\n",
    "plt.plot(history.history['val_acc'])\n",
    "plt.title('model accuracy')\n",
    "plt.ylabel('accuracy')\n",
    "plt.xlabel('epoch')\n",
    "plt.legend(['train', 'validation'], loc='upper left')"
   ]
  },
  {
   "cell_type": "code",
   "execution_count": null,
   "metadata": {},
   "outputs": [],
   "source": []
  }
 ],
 "metadata": {
  "kernelspec": {
   "display_name": "Python 3",
   "language": "python",
   "name": "python3"
  },
  "language_info": {
   "codemirror_mode": {
    "name": "ipython",
    "version": 3
   },
   "file_extension": ".py",
   "mimetype": "text/x-python",
   "name": "python",
   "nbconvert_exporter": "python",
   "pygments_lexer": "ipython3",
   "version": "3.7.3"
  }
 },
 "nbformat": 4,
 "nbformat_minor": 2
}
